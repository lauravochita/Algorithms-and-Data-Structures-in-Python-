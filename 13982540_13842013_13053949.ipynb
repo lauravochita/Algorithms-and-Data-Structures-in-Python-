{
 "cells": [
  {
   "cell_type": "markdown",
   "id": "0779691e",
   "metadata": {},
   "source": [
    "# Algorithms and Data Structures in Python — Assignment II ##\n",
    "\n",
    "The following assignment will test your understanding of topics covered in the first three weeks of the course. This assignment **will count towards your grade** and should be submitted through Canvas by **21.09.2023 at 08:59 (CEST)**. You are required to work and prepare your submissions in groups with 3 students per group. You can get at most 10 points for Assignment II, which is 10\\% of your final grade. \n",
    "\n",
    "1. For submission, please rename your notebook as ```{first_student_id}_{second_student_id}_{third_student_id}.ipynb```. For example, submission by students with student ID numbers *11760001*, *11760002* and *11760003* should have the filename ```11760001_11760002_11760003.ipynb```.\n",
    "\n",
    "2. Please follow the function prototype specified in the question for writing your code. The usage of additional functions is acceptable unless the problem expressly prohibits it. If this structure is modified, it will fail automated testing steps.\n",
    "\n",
    "3. All submissions will be tested using additional automated testing steps (not only using the ones provided in the next sections).\n",
    "\n",
    "4. All submissions will be checked for code similarity. Submissions with high similarity will be summarily rejected and no points will be awarded.\n",
    "\n",
    "5. Please do NOT use the ```input()``` function in your code. \n",
    "\n",
    "6. For this assignment, the usage of ```numpy``` is **not** allowed.\n",
    "\n",
    "7. For each exercise the correct solution counts for the 80% of the exercise's points, while code style counts for the remaining 20%. Please, make sure that you explain what your implementation does using comments."
   ]
  },
  {
   "cell_type": "markdown",
   "id": "early-religion",
   "metadata": {},
   "source": [
    "## Problem 1: Privacy Guard [2 points]"
   ]
  },
  {
   "cell_type": "markdown",
   "id": "informational-typing",
   "metadata": {},
   "source": [
    "Disclosing your email address on public forums like Reddit etc. is a generally unsafe practice. To prevent users from leaving their email addresses out in the open, you've been asked to build a privacy guard, an application that removes email addresses from public posts. You will be provided a user-submitted text (string) *s* and your task is to write a function ```find_email_addresses(s)``` that can identify all email addresses within this string.\n",
    "\n",
    "Your function should accept the input string *s* and return a list with email addresses found in the\n",
    "input string.\n",
    "\n",
    "\n",
    "```python\n",
    "find_email_addresses(\"I'm new to Facebook and my email is testmail@yahoo.com\")\n",
    "```\n",
    "\n",
    "should return: \n",
    "\n",
    "```python\n",
    "[testmail@yahoo.com]\n",
    "```\n",
    "\n",
    "```python\n",
    "find_email_addresses(\"Mail me at testmail@yahoo.com and newemail@student.uva.nl\")\n",
    "```\n",
    "\n",
    "should return: \n",
    "\n",
    "```python\n",
    "[testmail@yahoo.com, newemail@student.uva.nl]\n",
    "```\n",
    "\n",
    "Email addresses are generally of the form x@y.z. All email addresses contain a @ symbol that\n",
    "separates the name of the user from the service and a period (.) towards the end that specifies a domain.\n",
    "For this exercise, please assume that all names will be of the form x@y.z\n",
    "\n",
    "While searching for email addresses, please keep the following guidelines in mind:\n",
    "\n",
    "1. A valid email address has a single @ symbol.\n",
    "2. The @ must not be in the first or the last position in the string.\n",
    "3. An email address must have at least one period (.) after the @.\n",
    "4. A period (.) must not be in the first or last position in the string.\n",
    "\n",
    "Note: Usage of the ```re``` library is not permitted for this exercise."
   ]
  },
  {
   "cell_type": "code",
   "execution_count": 5,
   "id": "guilty-renaissance",
   "metadata": {
    "ExecuteTime": {
     "start_time": "2023-09-18T18:26:57.263825Z",
     "end_time": "2023-09-18T18:26:57.267048Z"
    }
   },
   "outputs": [],
   "source": [
    "def find_email_addresses(string):\n",
    " words = string.split(\" \") # Going through the string and splitting by spaces to get the words in a list \n",
    " email_addresses = [] # Creating an empty list to store the email addresses\n",
    " for word in words: # Going through the words in the list\n",
    "   if \"@\" in word: # progressing only if they have an @ symbol\n",
    "    if  word.index(\"@\") != 0 and word.index(\"@\") != len(word)-1 and word.count(\"@\") ==1 and word.count(\".\") >= 1 and word.index(\".\") != 0 and word.index(\".\") != len(word)-1 : #Checking all the conditions.  \n",
    "     email_addresses.append(word)\n",
    "    else: \n",
    "     pass \n",
    " return email_addresses\n"
   ]
  },
  {
   "cell_type": "code",
   "execution_count": 6,
   "id": "qualified-eight",
   "metadata": {
    "ExecuteTime": {
     "start_time": "2023-09-18T18:26:58.940698Z",
     "end_time": "2023-09-18T18:26:58.947976Z"
    }
   },
   "outputs": [],
   "source": [
    "assert(find_email_addresses(\"I'm new to Facebook and my email is testmail@yahoo.com\")\n",
    "       == ['testmail@yahoo.com'])\n",
    "\n",
    "assert(find_email_addresses(\"Mail me at testmail@yahoo.com and newemail@student.uva.nl\")\n",
    "       == ['testmail@yahoo.com', 'newemail@student.uva.nl'])"
   ]
  },
  {
   "cell_type": "markdown",
   "id": "hispanic-exception",
   "metadata": {},
   "source": [
    "## Problem 2: Approximating Euler's Number $e$ [3 points]\n",
    "\n",
    "In this problem, you will write a function ```series_euler_approximation(n)``` that computes:\n",
    "\n",
    "$$e = 1 + \\frac{1}{1!} + \\frac{1}{2!} + \\frac{1}{3!} + \\ldots = \\sum_{i=0}^{n}\\frac{1}{i!}$$\n",
    "\n",
    "The denominator term contains a factorial. You are required to write a function ```factorial(i)``` that computes the factorial of a number ($i!$). You are NOT allowed to use existing library implementations for computing factorials (e.g., ```math``` or ```numpy```) "
   ]
  },
  {
   "cell_type": "code",
   "execution_count": 7,
   "id": "resident-tournament",
   "metadata": {
    "ExecuteTime": {
     "start_time": "2023-09-18T18:27:32.921752Z",
     "end_time": "2023-09-18T18:27:32.923448Z"
    }
   },
   "outputs": [],
   "source": [
    "def factorial(i):\n",
    "    if i == 0: #condition for 0! = 1\n",
    "        return 1\n",
    "    for j in range (1, i): #multiplying the numbers from 1 to i\n",
    "        i = i*j\n",
    "    return i #return the factorial\n",
    "    pass\n",
    "def series_euler_approximation(n):\n",
    "    e = 1 #initialising e\n",
    "    for i in range(1, n+1): #interating from 1 to n\n",
    "        e = e+1/factorial(i) #computing the sum\n",
    "    return e\n",
    "    pass"
   ]
  },
  {
   "cell_type": "code",
   "execution_count": 8,
   "id": "competent-chance",
   "metadata": {
    "ExecuteTime": {
     "start_time": "2023-09-18T18:27:34.859215Z",
     "end_time": "2023-09-18T18:27:34.865567Z"
    }
   },
   "outputs": [],
   "source": [
    "import math\n",
    "\n",
    "assert(math.isclose(series_euler_approximation(10), 2.7182818011463845))\n",
    "\n",
    "assert(math.isclose(series_euler_approximation(100), 2.7182818284590455))"
   ]
  },
  {
   "cell_type": "markdown",
   "id": "95119200",
   "metadata": {},
   "source": [
    "## Problem 3 : Fixing Spacing Issues [5 POINTS]\n",
    "\n",
    "You've been hired as a programmer at Wordly, a grammar checking tool that is commonly used by students and professionals to detect typos in their texts. A common error in such texts is the user forgetting to place a space between words such that the sentence — \"I am a cat\" becomes \"I am acat\". You've been asked to design a simple (and crude) solution for detecting such issues. The approach for detecting and rectifying this problem in a given text (string) is as follows:\n",
    "\n",
    "1. Split the text into words. You can use the ```split``` string method for this. Store the results of this operation in the variable ```words```\n",
    "2. For each word, check whether it is a valid word. To do this, first import a list of valid english words from NLTK — a popular natural language library using the code snippet below:\n",
    "\n",
    "```python\n",
    "import nltk\n",
    "from nltk.corpus import words\n",
    "wordlist = words.words()\n",
    "```\n",
    "\n",
    "The variable ```wordlist``` contains a large list of valid english words. For each word in ```words```, check if it also exists in the list of valid english words contained in ```wordlist```. If it is not a valid english word, it is a typo. Store these typos in a list called ```typos```.\n",
    "\n",
    "3. You've now obtained a list of potential typos. For each typo, you must ascertain which two words were accidentally fused into a single word. We will check this by splitting the word at multiple points and check which split results in two valid words. For example, the word \"ahamburger\" can be split into two words in the following ways.\n",
    "\n",
    "```\n",
    "[('a', 'hamburger'),\n",
    " ('ah', 'amburger'),\n",
    " ('aha', 'mburger'),\n",
    " ('aham', 'burger'),\n",
    " ('ahamb', 'urger'),\n",
    " ('ahambu', 'rger'),\n",
    " ('ahambur', 'ger'),\n",
    " ('ahamburg', 'er'),\n",
    " ('ahamburge', 'r')]\n",
    "```\n",
    "\n",
    "From this list, only the first split actually results in two valid words (only \"a\" and \"hamburger\" from the candidates are contained in ```wordlist```). Other splits yield invalid words. Thus the typo of \"ahamburger\" can be fixed with \"a hamburger\". \n",
    "\n",
    "To achieve this, you will be required to write three functions:\n",
    "\n",
    "1. A function ```check_typos(s)``` that accepts an input string ```s``` and converts it into words. It then checks whether each word within the string is a valid english word using the NLTK word set. It returns words detected as typos in a list. \n",
    "\n",
    "2. A function ```generate_substrings(w)``` that accepts a word (passed as a string) ```w``` and splits it up into two substrings. It then returns the substrings for ```w``` as a list of tuples where each tuple contains two strings.\n",
    "\n",
    "3. A function ```generate_replacement_string``` that accepts the list of strings returned by ```generate_substrings(w)```and returns a tuple whose two substrings correspond to valid english words as contained in ```wordlist```.\n",
    "\n",
    "In the code block(s) below, we have provided a skeleton for these functions. Complete these functions. Once done, you can run the test block below and check if it raises any errors. No errors would indicate that you have passed all public tests but we urge you to think about other problems that could occur as there are private (hidden) test cases as well."
   ]
  },
  {
   "cell_type": "markdown",
   "id": "829744e0",
   "metadata": {},
   "source": [
    "#### Important Note\n",
    "\n",
    "Detecting typos is a complex problem and our approach is a crude solution for this task. Consequently, this approach suffers from many limitations. Please keep the following points in mind:\n",
    "\n",
    "1. The ```wordlist``` obtained from NLTK does not contain plural forms of words. For example, while it contains ```hamburger```, it does not contain ```hamburgers```. Consequently, ```hamburgers``` would be treated as a typo by your code since it is not in the list of valid english words provided by NLTK. We recognize this limitatition and we will not test your implementation with phrases containing plural forms of words. For example, we will not test your code on inputs like ```\"Can I have thesandwiches please\"```. \n",
    "\n",
    "2. We will NOT test your submission with any inputs containing special characters (e.g., \"?\", \"-\") and numbers (e.g., 1,2,3,...)\n",
    "\n",
    "3. Splitting a word into substrings may occasionally result in more than one valid substrings. Please do not worry about this and ignore such cases when testing your implementation.\n",
    "\n",
    "4. In case, you do not have the NLTK library installed, you can install it using the following code snippet:\n",
    "```python\n",
    "!conda install nltk -y\n",
    "import nltk\n",
    "nltk.download('words')\n",
    "```"
   ]
  },
  {
   "cell_type": "code",
   "execution_count": 25,
   "outputs": [
    {
     "name": "stderr",
     "output_type": "stream",
     "text": [
      "[nltk_data] Downloading package words to /Users/george/nltk_data...\n",
      "[nltk_data]   Unzipping corpora/words.zip.\n"
     ]
    },
    {
     "data": {
      "text/plain": "True"
     },
     "execution_count": 25,
     "metadata": {},
     "output_type": "execute_result"
    }
   ],
   "source": [
    "import nltk # Importing the nltk library\n",
    "nltk.download('words') # Downloading the words corpus from nltk"
   ],
   "metadata": {
    "collapsed": false,
    "ExecuteTime": {
     "end_time": "2023-09-13T16:07:17.326733Z",
     "start_time": "2023-09-13T16:07:16.648223Z"
    }
   },
   "id": "de6f519c8eaac201"
  },
  {
   "cell_type": "code",
   "execution_count": 11,
   "id": "c10fb3b6",
   "metadata": {
    "ExecuteTime": {
     "start_time": "2023-09-18T18:33:50.045617Z",
     "end_time": "2023-09-18T18:33:50.106566Z"
    }
   },
   "outputs": [],
   "source": [
    "import nltk # Importing the nltk library\n",
    "from nltk.corpus import words # Importing the words corpus from nltk\n",
    "wordlist = words.words() # Creating a list of words from the words corpus\n",
    "def check_typos(s):\n",
    "   words = s.split (\" \") # Splitting the string into words\n",
    "   typos = [] # Creating an empty list to store the typos\n",
    "   for word in words: # Iterating through the words in the list\n",
    "     if word.lower() not in wordlist: # Checking if the word is not in the wordlist\n",
    "       typos.append(word) # Appending the word to the typos list if it is not in the wordlist\n",
    "     else: \n",
    "       pass # Passing if the word is in the wordlist\n",
    "   return typos # Returning the typos list\n",
    "def generate_substrings(w):\n",
    "    sub = [] # Creating an empty list to store the substrings\n",
    "    for i in range(1, len(w)): # Iterating through the word and splitting it into substrings\n",
    "      sub.append((w[:i], w[i:])) # Appending the substrings to the substrings list\n",
    "    return sub # Returning the substrings list\n",
    "\n",
    "def generate_replacement_string(r):\n",
    "    # Generating the replacement string\n",
    "    for rep in r:\n",
    "      if rep[0] in wordlist and rep[1] in wordlist:\n",
    "        return rep\n",
    "      else:\n",
    "        pass"
   ]
  },
  {
   "cell_type": "code",
   "execution_count": 12,
   "id": "652907d2",
   "metadata": {
    "ExecuteTime": {
     "start_time": "2023-09-18T18:33:51.283397Z",
     "end_time": "2023-09-18T18:33:51.286860Z"
    }
   },
   "outputs": [],
   "source": [
    "# Tests for check_typos\n",
    "assert(check_typos(\"can I have ahamburger that I shallpay for tomorrow\") == ['ahamburger', 'shallpay'])\n",
    "\n",
    "assert(check_typos(\"can I havethe sandwich please\") == ['havethe'])"
   ]
  },
  {
   "cell_type": "code",
   "execution_count": 13,
   "id": "098ebd3d",
   "metadata": {
    "ExecuteTime": {
     "start_time": "2023-09-18T18:33:52.849435Z",
     "end_time": "2023-09-18T18:33:52.856286Z"
    }
   },
   "outputs": [],
   "source": [
    "# Tests for generate_substrings\n",
    "assert(generate_substrings(\"ahamburger\") == [('a', 'hamburger'),\n",
    " ('ah', 'amburger'),\n",
    " ('aha', 'mburger'),\n",
    " ('aham', 'burger'),\n",
    " ('ahamb', 'urger'),\n",
    " ('ahambu', 'rger'),\n",
    " ('ahambur', 'ger'),\n",
    " ('ahamburg', 'er'),\n",
    " ('ahamburge', 'r')])\n",
    "\n",
    "assert(generate_substrings(\"havethe\") == [('h', 'avethe'),\n",
    " ('ha', 'vethe'),\n",
    " ('hav', 'ethe'),\n",
    " ('have', 'the'),\n",
    " ('havet', 'he'),\n",
    " ('haveth', 'e')])"
   ]
  },
  {
   "cell_type": "code",
   "execution_count": 4,
   "id": "5203712d",
   "metadata": {
    "ExecuteTime": {
     "start_time": "2023-09-18T18:25:02.615652Z",
     "end_time": "2023-09-18T18:25:02.621331Z"
    }
   },
   "outputs": [],
   "source": [
    "# Tests for generate_replacement_substring\n",
    "assert(generate_replacement_string([('a', 'hamburger'),\n",
    " ('ah', 'amburger'),\n",
    " ('aha', 'mburger'),\n",
    " ('aham', 'burger'),\n",
    " ('ahamb', 'urger'),\n",
    " ('ahambu', 'rger'),\n",
    " ('ahambur', 'ger'),\n",
    " ('ahamburg', 'er'),\n",
    " ('ahamburge', 'r')]) == ('a', 'hamburger'))\n",
    "\n",
    "assert(generate_replacement_string([('h', 'avethe'),\n",
    " ('ha', 'vethe'),\n",
    " ('hav', 'ethe'),\n",
    " ('have', 'the'),\n",
    " ('havet', 'he'),\n",
    " ('haveth', 'e')]) == ('have', 'the'))"
   ]
  }
 ],
 "metadata": {
  "kernelspec": {
   "display_name": "Python 3",
   "language": "python",
   "name": "python3"
  },
  "language_info": {
   "codemirror_mode": {
    "name": "ipython",
    "version": 3
   },
   "file_extension": ".py",
   "mimetype": "text/x-python",
   "name": "python",
   "nbconvert_exporter": "python",
   "pygments_lexer": "ipython3",
   "version": "3.7.7"
  }
 },
 "nbformat": 4,
 "nbformat_minor": 5
}
